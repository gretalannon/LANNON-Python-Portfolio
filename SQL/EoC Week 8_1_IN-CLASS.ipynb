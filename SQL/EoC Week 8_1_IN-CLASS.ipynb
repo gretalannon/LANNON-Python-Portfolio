{
 "cells": [
  {
   "cell_type": "markdown",
   "metadata": {},
   "source": [
    "# SQLite & SQL Querying with Python\n",
    "In this notebook our goals are to:\n",
    "- Connect to a SQLite database (using the Sakila database)\n",
    "- List all tables in the database\n",
    "- Retrieve column names from the 'customer' table using PRAGMA\n",
    "- Execute basic SQL queries to explore and filter data\n",
    "\n",
    "These notes will help you understand how to interact with SQL using Python."
   ]
  },
  {
   "cell_type": "code",
   "execution_count": 1,
   "metadata": {},
   "outputs": [
    {
     "ename": "ModuleNotFoundError",
     "evalue": "No module named 'pandas'",
     "output_type": "error",
     "traceback": [
      "\u001b[0;31m---------------------------------------------------------------------------\u001b[0m",
      "\u001b[0;31mModuleNotFoundError\u001b[0m                       Traceback (most recent call last)",
      "Cell \u001b[0;32mIn[1], line 2\u001b[0m\n\u001b[1;32m      1\u001b[0m \u001b[38;5;28;01mimport\u001b[39;00m\u001b[38;5;250m \u001b[39m\u001b[38;5;21;01msqlite3\u001b[39;00m\n\u001b[0;32m----> 2\u001b[0m \u001b[38;5;28;01mimport\u001b[39;00m\u001b[38;5;250m \u001b[39m\u001b[38;5;21;01mpandas\u001b[39;00m\u001b[38;5;250m \u001b[39m\u001b[38;5;28;01mas\u001b[39;00m\u001b[38;5;250m \u001b[39m\u001b[38;5;21;01mpd\u001b[39;00m\n\u001b[1;32m      4\u001b[0m \u001b[38;5;66;03m# Set the path to the SQLite database\u001b[39;00m\n\u001b[1;32m      5\u001b[0m db_path \u001b[38;5;241m=\u001b[39m \u001b[38;5;124m\"\u001b[39m\u001b[38;5;124msakila.db\u001b[39m\u001b[38;5;124m\"\u001b[39m\n",
      "\u001b[0;31mModuleNotFoundError\u001b[0m: No module named 'pandas'"
     ]
    }
   ],
   "source": [
    "import sqlite3\n",
    "import pandas as pd\n",
    "\n",
    "# Set the path to the SQLite database\n",
    "db_path = \"sakila.db\"\n",
    "\n",
    "# Connect to SQLite database\n",
    "conn = sqlite3.connect(db_path)\n",
    "print(\"Connected to SQLite Sakila database!\")"
   ]
  },
  {
   "cell_type": "markdown",
   "metadata": {},
   "source": [
    "## List all tables in the database\n",
    "Here we query the 'sqlite_master' table, which holds the schema info inside of the .db file."
   ]
  },
  {
   "cell_type": "code",
   "execution_count": null,
   "metadata": {},
   "outputs": [],
   "source": [
    "# List all tables in the database\n",
    "tables = pd.read_sql(\"\"\"SELECT name \n",
    "                        FROM sqlite_master \n",
    "                        WHERE type='table';\"\"\", conn)\n",
    "\n",
    "print(\"Tables in the database:\")\n",
    "print(tables)"
   ]
  },
  {
   "cell_type": "markdown",
   "metadata": {},
   "source": [
    "## Retrieve column names from the 'customer' table using PRAGMA table_info.\n",
    "- SQLite allows you to inspect table schema with the PRAGMA command.\n",
    "- For SQLite 3.16 or later, you can query it like a table."
   ]
  },
  {
   "cell_type": "code",
   "execution_count": null,
   "metadata": {},
   "outputs": [],
   "source": [
    "query_sort = \"\"\"SELECT name \n",
    "                FROM pragma_table_info('customer');\"\"\"\n",
    "\n",
    "df_sort = pd.read_sql(query_sort, conn)\n",
    "print(\"\\nCustomer Table Columns:\")\n",
    "print(df_sort)"
   ]
  },
  {
   "cell_type": "markdown",
   "metadata": {},
   "source": [
    "## Basic SELECT: Retrieve all customer data\n",
    "This query selects all columns and rows from the 'customer' table."
   ]
  },
  {
   "cell_type": "code",
   "execution_count": null,
   "metadata": {},
   "outputs": [],
   "source": [
    "query_all = \"\"\"SELECT *\n",
    "             FROM CUSTOMER\n",
    "            \"\"\"\n",
    "\n",
    "pd.read_sql(query_all, conn)"
   ]
  },
  {
   "cell_type": "markdown",
   "metadata": {},
   "source": [
    "## Filtering data: Retrieve only active customers.\n",
    "- The WHERE clause filters records where the 'active' column equals 1."
   ]
  },
  {
   "cell_type": "code",
   "execution_count": null,
   "metadata": {},
   "outputs": [],
   "source": []
  },
  {
   "cell_type": "markdown",
   "metadata": {},
   "source": [
    "## Sorting data: Order customers by the last_update field in descending order.\n",
    "- Sorting is useful to see the most recent updates first.\n",
    "- Only show the first 10 entries."
   ]
  },
  {
   "cell_type": "code",
   "execution_count": null,
   "metadata": {},
   "outputs": [],
   "source": []
  },
  {
   "cell_type": "markdown",
   "metadata": {},
   "source": [
    "# Group Exercises\n",
    "- Find a neighbor, yes, move around and make a new friend!\n",
    "- Work through the following practice exercises together."
   ]
  },
  {
   "cell_type": "markdown",
   "metadata": {},
   "source": [
    "## 1. Explore the actor Table\n",
    "- 1. Write a query to display all columns for every actor in the actor table.\n",
    "\n",
    "- 2. Show only the actor_id, first_name, and last_name columns, and sort by last_name in ascending order."
   ]
  },
  {
   "cell_type": "code",
   "execution_count": null,
   "metadata": {},
   "outputs": [],
   "source": []
  },
  {
   "cell_type": "markdown",
   "metadata": {},
   "source": [
    "## 2. Filter and Sort Data in the film Table\n",
    "1. Films with a Specific Rating\n",
    "- Return the film_id, title, and rating of all films where rating = 'PG'.\n",
    "- Bonus: Are there films \"greater than (>)\" 'PG'?\n",
    "\n",
    "2. Films with Rental Rate Above 2.99\n",
    "- Display the film_id, title, rental_rate, and length for films where the rental_rate is greater than 2.99. Sort them by the shortest length to longest.\n",
    "\n",
    "3. Longest Films\n",
    "- List the top 15 longest films (by length), showing title and length. Sort them from longest to shortest."
   ]
  },
  {
   "cell_type": "code",
   "execution_count": null,
   "metadata": {},
   "outputs": [],
   "source": []
  },
  {
   "cell_type": "code",
   "execution_count": null,
   "metadata": {},
   "outputs": [],
   "source": []
  },
  {
   "cell_type": "code",
   "execution_count": null,
   "metadata": {},
   "outputs": [],
   "source": []
  },
  {
   "cell_type": "markdown",
   "metadata": {},
   "source": [
    "## Close the connection to the database.\n",
    "Always close the connection when you're done to free up resources."
   ]
  },
  {
   "cell_type": "code",
   "execution_count": null,
   "metadata": {},
   "outputs": [],
   "source": [
    "# Close the connection\n",
    "conn.close()"
   ]
  }
 ],
 "metadata": {
  "kernelspec": {
   "display_name": "Python 3",
   "language": "python",
   "name": "python3"
  },
  "language_info": {
   "codemirror_mode": {
    "name": "ipython",
    "version": 3
   },
   "file_extension": ".py",
   "mimetype": "text/x-python",
   "name": "python",
   "nbconvert_exporter": "python",
   "pygments_lexer": "ipython3",
   "version": "3.9.6"
  }
 },
 "nbformat": 4,
 "nbformat_minor": 2
}
